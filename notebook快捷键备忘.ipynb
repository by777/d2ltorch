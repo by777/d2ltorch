{
 "cells": [
  {
   "cell_type": "markdown",
   "metadata": {
    "collapsed": true,
    "pycharm": {
     "name": "#%% md\n"
    }
   },
   "source": [
    "Jupyter Notebook 有两种键盘输入模式。编辑模式，允许你往单元中键入代码或文本；这时的单元框线是绿色的。命令模式，键盘输入运行程序命令；这时的单元框线是灰色。\n",
    "\n",
    "## 命令模式 (按键 Esc 开启)快捷键：\n",
    "Enter : 转入编辑模式\n",
    "Shift-Enter : 运行本单元，选中下个单元\n",
    "Ctrl-Enter : 运行本单元\n",
    "Alt-Enter : 运行本单元，在其下插入新单元\n",
    "\n",
    "Y : 单元转入代码状态\n",
    "M :单元转入markdown状态\n",
    "R : 单元转入raw状态\n",
    "\n",
    "\n",
    "\n",
    "\n",
    "A : 在上方插入新单元\n",
    "B : 在下方插入新单元\n",
    "\n",
    "X : 剪切选中的单元\n",
    "C : 复制选中的单元\n",
    "\n",
    "\n",
    "V : 粘贴到下方单元\n",
    "Z : 恢复删除的最后一个单元\n",
    "\n",
    "D,D : 删除选中的单元\n",
    "\n",
    "Shift-M : 合并选中的单元\n",
    "\n",
    "\n",
    "S : 文件存盘\n",
    "L : 转换行号\n",
    "\n",
    "O : 转换输出\n",
    "Shift-O : 转换输出滚动\n",
    "\n",
    "## 编辑模式 ( Enter 键启动)下快捷键\n",
    "\n",
    "\n",
    "Tab : 代码补全或缩进\n",
    "Shift-Tab : 提示\n",
    "\n",
    "Ctrl-] : 缩进\n",
    "Ctrl-[ : 解除缩进\n",
    "\n",
    "\n",
    "Ctrl-Enter : 运行本单元M\n",
    "Ctrl-Shift-- : 分割单元\n"
   ]
  },
  {
   "cell_type": "code",
   "execution_count": null,
   "outputs": [],
   "source": [],
   "metadata": {
    "collapsed": false,
    "pycharm": {
     "name": "#%%\n"
    }
   }
  }
 ],
 "metadata": {
  "kernelspec": {
   "display_name": "Python 3",
   "language": "python",
   "name": "python3"
  },
  "language_info": {
   "codemirror_mode": {
    "name": "ipython",
    "version": 2
   },
   "file_extension": ".py",
   "mimetype": "text/x-python",
   "name": "python",
   "nbconvert_exporter": "python",
   "pygments_lexer": "ipython2",
   "version": "2.7.6"
  }
 },
 "nbformat": 4,
 "nbformat_minor": 0
}