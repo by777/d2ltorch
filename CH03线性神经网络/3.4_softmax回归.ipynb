{
 "cells": [
  {
   "cell_type": "markdown",
   "metadata": {
    "collapsed": true,
    "pycharm": {
     "name": "#%% md\n"
    }
   },
   "source": [
    "### 3.4.1 分类问题\n",
    "我们从一个图像分类问题开始。 假设每次输入是一个 2×2 的灰度图像。 我们可以用一个标量表示每个像素值，每个图像对应四个特征 x1,x2,x3,x4 。 此外，假设每个图像属于类别“猫”，“鸡”和“狗”中的一个。\n",
    "\n",
    "接下来，我们要选择如何表示标签。 我们有两个明显的选择：最直接的想法是选择 y∈{1,2,3} ， 其中整数分别代表 {狗,猫,鸡} 。 这是在计算机上存储此类信息的有效方法。 如果类别间有一些自然顺序， 比如说我们试图预测 {婴儿,儿童,青少年,青年人,中年人,老年人} ， 那么将这个问题转变为回归问题，并且保留这种格式是有意义的。\n",
    "\n",
    "幸运的是，一般的分类问题并不与类别之间的自然顺序有关。 统计学家很早以前就发明了一种表示分类数据的简单方法：独热编码（one-hot encoding）。 独热编码是一个向量，它的分量和类别一样多。 类别对应的分量设置为1，其他所有分量设置为0。 在我们的例子中，标签 y 将是一个三维向量， 其中 (1,0,0) 对应于“猫”、 (0,1,0) 对应于“鸡”、 (0,0,1) 对应于“狗”：\n",
    "\n",
    "(3.4.1)\n",
    "y∈{(1,0,0),(0,1,0),(0,0,1)}."
   ]
  },
  {
   "cell_type": "markdown",
   "source": [
    "### 3.4.2 网络架构.\n",
    "为了估计所有可能类别的条件概率，我们需要一个有多个输出的模型，每个类别对应一个输出。 为了解决线性模型的分类问题，我们需要和输出一样多的仿射函数（affine function）。 每个输出对应于它自己的仿射函数。 在我们的例子中，由于我们有4个特征和3个可能的输出类别， 我们将需要12个标量来表示权重（带下标的 w ）， 3个标量来表示偏置（带下标的 b ）。 下面我们为每个输入计算三个未规范化的预测（logit）： o1 、 o2 和 o3 。\n",
    "\n",
    "(3.4.2)\n",
    "o1o2o3=x1w11+x2w12+x3w13+x4w14+b1,=x1w21+x2w22+x3w23+x4w24+b2,=x1w31+x2w32+x3w33+x4w34+b3.\n",
    "\n",
    "我们可以用神经网络图 图3.4.1来描述这个计算过程。 与线性回归一样，softmax回归也是一个单层神经网络。 由于计算每个输出 o1 、 o2 和 o3 取决于 所有输入 x1 、 x2 、 x3 和 x4 ，\n",
    "\n",
    "所以softmax回归的输出层也是全连接层。"
   ],
   "metadata": {
    "collapsed": false,
    "pycharm": {
     "name": "#%% md\n"
    }
   }
  },
  {
   "cell_type": "markdown",
   "source": [
    "### 3.4.3 全连接层的参数开销\n",
    "正如我们将在后续章节中看到的，在深度学习中，全连接层无处不在。 然而，顾名思义，全连接层是“完全”连接的，可能有很多可学习的参数。 具体来说，对于任何具有 d 个输入和 q 个输出的全连接层， 参数开销为 O(dq) ，这个数字在实践中可能高得令人望而却步。 幸运的是，将 d 个输入转换为 q 个输出的成本可以减少到 O(dqn) ， 其中超参数 n 可以由我们灵活指定，以在实际应用中平衡参数节约和模型有效性 [Zhang et al., 2021]。"
   ],
   "metadata": {
    "collapsed": false,
    "pycharm": {
     "name": "#%% md\n"
    }
   }
  },
  {
   "cell_type": "markdown",
   "source": [
    "\n",
    "![softmax](imgs/3_4_5softmax1.png)"
   ],
   "metadata": {
    "collapsed": false,
    "pycharm": {
     "name": "#%% md\n"
    }
   }
  },
  {
   "cell_type": "code",
   "execution_count": null,
   "outputs": [],
   "source": [],
   "metadata": {
    "collapsed": false,
    "pycharm": {
     "name": "#%%\n"
    }
   }
  }
 ],
 "metadata": {
  "kernelspec": {
   "display_name": "Python 3",
   "language": "python",
   "name": "python3"
  },
  "language_info": {
   "codemirror_mode": {
    "name": "ipython",
    "version": 2
   },
   "file_extension": ".py",
   "mimetype": "text/x-python",
   "name": "python",
   "nbconvert_exporter": "python",
   "pygments_lexer": "ipython2",
   "version": "2.7.6"
  }
 },
 "nbformat": 4,
 "nbformat_minor": 0
}