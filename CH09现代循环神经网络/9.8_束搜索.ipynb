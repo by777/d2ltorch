{
 "cells": [
  {
   "cell_type": "markdown",
   "metadata": {
    "collapsed": true,
    "pycharm": {
     "name": "#%% md\n"
    }
   },
   "source": [
    "在 9.7节中，我们逐个预测输出序列， 直到预测序列中出现特定的序列结束词元“<eos>”。 在本节中，我们将首先介绍贪心搜索（greedy search）策略， 并探讨其存在的问题，然后对比其他替代策略： 穷举搜索（exhaustive search）和束搜索（beam search）。"
   ]
  },
  {
   "cell_type": "markdown",
   "source": [
    "### 9.8.1. 贪心搜索\n",
    "![在每个时间步，贪心搜索选择具有最高条件概率的词元](imgs/9_8_1贪心搜索1.png)"
   ],
   "metadata": {
    "collapsed": false,
    "pycharm": {
     "name": "#%% md\n"
    }
   }
  },
  {
   "cell_type": "markdown",
   "source": [
    "如 上图中， 假设输出中有四个词元“A”、“B”、“C”和“<eos>”。 每个时间步下的四个数字分别表示在该时间步 生成“A”、“B”、“C”和“<eos>”的条件概率。 在每个时间步，贪心搜索选择具有最高条件概率的词元。 因此，将在 图9.8.1中 预测输出序列“A”、“B”、“C”和“<eos>”。 这个输出序列的条件概率是  0.5×0.4×0.4×0.6=0.048 。"
   ],
   "metadata": {
    "collapsed": false,
    "pycharm": {
     "name": "#%% md\n"
    }
   }
  },
  {
   "cell_type": "markdown",
   "source": [
    "那么贪心搜索存在的问题是什么呢？\n",
    "\n",
    "![在时间步2，选择具有第二高条件概率的词元“C”（而非最高条件概率的词元）](imgs/9_8_1贪心搜索2.png)"
   ],
   "metadata": {
    "collapsed": false,
    "pycharm": {
     "name": "#%% md\n"
    }
   }
  },
  {
   "cell_type": "markdown",
   "source": [
    " 这个例子说明：贪心搜索获得的输出序列 “A”、“B”、“C”和“<eos>” 不一定是最佳序列。"
   ],
   "metadata": {
    "collapsed": false,
    "pycharm": {
     "name": "#%% md\n"
    }
   }
  },
  {
   "cell_type": "markdown",
   "source": [
    "### 9.8.2. 穷举搜索\n",
    "如果目标是获得最优序列， 我们可以考虑使用穷举搜索（exhaustive search）： 穷举地列举所有可能的输出序列及其条件概率， 然后计算输出条件概率最高的一个。\n",
    "\n",
    "虽然我们可以使用穷举搜索来获得最优序列， 但其计算量 O(|Y|T′) 可能高的惊人。 例如，当 |Y|=10000 和 T′=10 时， 我们需要评估 1000010=1040 序列， 这是一个极大的数，现有的计算机几乎不可能计算它。 然而，贪心搜索的计算量  O(|Y|T′)  通它要显著地小于穷举搜索。 例如，当 |Y|=10000 和 T′=10 时， 我们只需要评估 10000×10=105 个序列。"
   ],
   "metadata": {
    "collapsed": false,
    "pycharm": {
     "name": "#%% md\n"
    }
   }
  },
  {
   "cell_type": "markdown",
   "source": [
    "### 9.8.3. 束搜索\n",
    "那么该选取哪种序列搜索策略呢？ 如果精度最重要，则显然是穷举搜索。 如果计算成本最重要，则显然是贪心搜索。 而束搜索的实际应用则介于这两个极端之间。\n",
    "\n",
    "束搜索（beam search）是贪心搜索的一个改进版本。 它有一个超参数，名为束宽（beam size） k 。 在时间步 1 ，我们选择具有最高条件概率的 k 个词元。 这 k 个词元将分别是 k 个候选输出序列的第一个词元。 在随后的每个时间步，基于上一时间步的 k 个候选输出序列， 我们将继续从 k|Y| 个可能的选择中 挑出具有最高条件概率的 k 个候选输出序列。\n"
   ],
   "metadata": {
    "collapsed": false,
    "pycharm": {
     "name": "#%% md\n"
    }
   }
  },
  {
   "cell_type": "markdown",
   "source": [
    "![束搜索过程](imgs/9_8_3束搜索1.png)"
   ],
   "metadata": {
    "collapsed": false,
    "pycharm": {
     "name": "#%% md\n"
    }
   }
  },
  {
   "cell_type": "markdown",
   "source": [
    "束搜索的计算量为 O(k|Y|T′) ， 这个结果介于贪心搜索和穷举搜索之间。 实际上，贪心搜索可以看作是一种束宽为 1 的特殊类型的束搜索。 通过灵活地选择束宽，束搜索可以在正确率和计算代价之间进行权衡。"
   ],
   "metadata": {
    "collapsed": false,
    "pycharm": {
     "name": "#%% md\n"
    }
   }
  },
  {
   "cell_type": "code",
   "execution_count": null,
   "outputs": [],
   "source": [],
   "metadata": {
    "collapsed": false,
    "pycharm": {
     "name": "#%%\n"
    }
   }
  }
 ],
 "metadata": {
  "kernelspec": {
   "display_name": "Python 3",
   "language": "python",
   "name": "python3"
  },
  "language_info": {
   "codemirror_mode": {
    "name": "ipython",
    "version": 2
   },
   "file_extension": ".py",
   "mimetype": "text/x-python",
   "name": "python",
   "nbconvert_exporter": "python",
   "pygments_lexer": "ipython2",
   "version": "2.7.6"
  }
 },
 "nbformat": 4,
 "nbformat_minor": 0
}